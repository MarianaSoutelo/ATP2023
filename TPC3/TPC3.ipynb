{
 "cells": [
  {
   "cell_type": "markdown",
   "metadata": {},
   "source": [
    "## TPC3: Adivinha o Número"
   ]
  },
  {
   "cell_type": "markdown",
   "metadata": {},
   "source": [
    "Desenvolve em Python o código necessário para o jogo do Adivinha o número. O jogo deverá ter dois modos: o computador tenta acertar no número que o jogador pensou ou, o jogador tenta acertar no número que o computador pensou. No fim, o programa deverá indicar quantas tentativas foram realizadas para chegar ao resultado."
   ]
  },
  {
   "cell_type": "code",
   "execution_count": 3,
   "metadata": {},
   "outputs": [
    {
     "name": "stdout",
     "output_type": "stream",
     "text": [
      "Acertou em 4 tentativas.\n"
     ]
    }
   ],
   "source": [
    "import random\n",
    "\n",
    "modo = input(\"Quem adivinha? (jogador ou computador)\")\n",
    "\n",
    "if modo == \"jogador\":\n",
    "    num = random.randint(1,100)\n",
    "    tentativas = 0\n",
    "    adivinha = int(input(\"Acho que é o numero:\"))\n",
    "\n",
    "    if adivinha != num:\n",
    "        tentativas = tentativas + 1\n",
    "\n",
    "    while adivinha != num:\n",
    "\n",
    "        if adivinha > num:\n",
    "            print(\"O número é Menor que \" + str(adivinha))\n",
    "            adivinha = int(input(\"Acho que é o numero:\"))\n",
    "            tentativas = tentativas + 1\n",
    "\n",
    "        elif adivinha < num:\n",
    "            print(\"O número é Maior que \" + str(adivinha))\n",
    "            adivinha = int(input(\"Acho que é o numero:\"))\n",
    "            tentativas = tentativas + 1\n",
    "\n",
    "  \n",
    "    print(\"O número era o \" + str(num) + \".\" + \" Acertaste!\")\n",
    "    print(\"Acertaste ao fim de \" + str(tentativas) + \" tentativas\")\n",
    "\n",
    "\n",
    "else:\n",
    "    lower=0\n",
    "    upper=100\n",
    "    dif=upper-lower\n",
    "    resposta=resposta=lower+dif/2\n",
    "                \n",
    "    ans=input(\"O seu número é {}? sim/maior/menor\".format(resposta))\n",
    "    N=1\n",
    "\n",
    "    while ans!=\"sim\":\n",
    "    \n",
    "        if ans==\"maior\":\n",
    "            lower=resposta\n",
    "            dif=upper-lower\n",
    "        \n",
    "            if dif%2==0:\n",
    "                resposta=lower+dif/2\n",
    "\n",
    "            elif dif%2>0:\n",
    "                resposta=lower+dif/2+0.5\n",
    "        \n",
    "            ans=input(\"O seu número é {}? sim/maior/menor\".format(resposta))\n",
    "            N=N+1\n",
    "\n",
    "        if ans==\"menor\":\n",
    "            upper=resposta\n",
    "            dif=upper-lower\n",
    "                \n",
    "            if dif%2==0:\n",
    "                resposta=lower+dif/2\n",
    "                \n",
    "            elif dif%2>0:\n",
    "                resposta=lower+dif/2+0.5\n",
    "\n",
    "            \n",
    "            ans=input(\"O seu número é {}? sim/maior/menor\".format(resposta))\n",
    "            N=N+1\n",
    "\n",
    "    print(\"Acertou em {} tentativas.\".format(N))\n",
    "\n",
    "\n",
    "\n",
    "\n"
   ]
  }
 ],
 "metadata": {
  "kernelspec": {
   "display_name": "Python 3",
   "language": "python",
   "name": "python3"
  },
  "language_info": {
   "codemirror_mode": {
    "name": "ipython",
    "version": 3
   },
   "file_extension": ".py",
   "mimetype": "text/x-python",
   "name": "python",
   "nbconvert_exporter": "python",
   "pygments_lexer": "ipython3",
   "version": "3.10.11"
  },
  "orig_nbformat": 4
 },
 "nbformat": 4,
 "nbformat_minor": 2
}
